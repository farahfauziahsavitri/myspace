{
  "nbformat": 4,
  "nbformat_minor": 0,
  "metadata": {
    "colab": {
      "name": "ENSO LSTM",
      "provenance": [],
      "collapsed_sections": [],
      "authorship_tag": "ABX9TyOfVcGXjW96e0QNy5hTjm8Y",
      "include_colab_link": true
    },
    "kernelspec": {
      "name": "python3",
      "display_name": "Python 3"
    },
    "language_info": {
      "name": "python"
    }
  },
  "cells": [
    {
      "cell_type": "markdown",
      "metadata": {
        "id": "view-in-github",
        "colab_type": "text"
      },
      "source": [
        "<a href=\"https://colab.research.google.com/github/farahfauziahsavitri/farahfauziahsavitri/blob/main/ENSO_LSTM.ipynb\" target=\"_parent\"><img src=\"https://colab.research.google.com/assets/colab-badge.svg\" alt=\"Open In Colab\"/></a>"
      ]
    },
    {
      "cell_type": "markdown",
      "metadata": {
        "id": "OuriE7LWb4cm"
      },
      "source": [
        "LSTM"
      ]
    },
    {
      "cell_type": "code",
      "metadata": {
        "colab": {
          "base_uri": "https://localhost:8080/",
          "height": 221
        },
        "id": "peXVL6bQb7Bz",
        "outputId": "ccc19ecd-ab94-4660-ff7d-a05429c4d040"
      },
      "source": [
        "from google.colab import drive\n",
        "import math\n",
        "import numpy as np\n",
        "import pandas as pd\n",
        "import matplotlib.pyplot as plt\n",
        "from keras.models import Sequential\n",
        "from keras.layers import Dense\n",
        "from keras.layers import LSTM\n",
        "from sklearn.preprocessing import MinMaxScaler\n",
        "from sklearn.metrics import mean_squared_error\n",
        "drive.mount('/content/drive')\n",
        "df=pd.read_csv('/content/drive/My Drive/KMMI/enso.csv',usecols=[0],engine='python')\n",
        "np.random.seed(42)\n",
        "df.head()"
      ],
      "execution_count": null,
      "outputs": [
        {
          "output_type": "stream",
          "text": [
            "Drive already mounted at /content/drive; to attempt to forcibly remount, call drive.mount(\"/content/drive\", force_remount=True).\n"
          ],
          "name": "stdout"
        },
        {
          "output_type": "execute_result",
          "data": {
            "text/html": [
              "<div>\n",
              "<style scoped>\n",
              "    .dataframe tbody tr th:only-of-type {\n",
              "        vertical-align: middle;\n",
              "    }\n",
              "\n",
              "    .dataframe tbody tr th {\n",
              "        vertical-align: top;\n",
              "    }\n",
              "\n",
              "    .dataframe thead th {\n",
              "        text-align: right;\n",
              "    }\n",
              "</style>\n",
              "<table border=\"1\" class=\"dataframe\">\n",
              "  <thead>\n",
              "    <tr style=\"text-align: right;\">\n",
              "      <th></th>\n",
              "      <th>enso</th>\n",
              "    </tr>\n",
              "  </thead>\n",
              "  <tbody>\n",
              "    <tr>\n",
              "      <th>0</th>\n",
              "      <td>-1.5</td>\n",
              "    </tr>\n",
              "    <tr>\n",
              "      <th>1</th>\n",
              "      <td>-1.3</td>\n",
              "    </tr>\n",
              "    <tr>\n",
              "      <th>2</th>\n",
              "      <td>-1.2</td>\n",
              "    </tr>\n",
              "    <tr>\n",
              "      <th>3</th>\n",
              "      <td>-1.2</td>\n",
              "    </tr>\n",
              "    <tr>\n",
              "      <th>4</th>\n",
              "      <td>-1.1</td>\n",
              "    </tr>\n",
              "  </tbody>\n",
              "</table>\n",
              "</div>"
            ],
            "text/plain": [
              "   enso\n",
              "0  -1.5\n",
              "1  -1.3\n",
              "2  -1.2\n",
              "3  -1.2\n",
              "4  -1.1"
            ]
          },
          "metadata": {
            "tags": []
          },
          "execution_count": 20
        }
      ]
    },
    {
      "cell_type": "code",
      "metadata": {
        "colab": {
          "base_uri": "https://localhost:8080/",
          "height": 282
        },
        "id": "pN_GdMMTc1Ra",
        "outputId": "27e2503e-7fae-4d9a-bc99-e11009b370b5"
      },
      "source": [
        "df.plot()"
      ],
      "execution_count": null,
      "outputs": [
        {
          "output_type": "execute_result",
          "data": {
            "text/plain": [
              "<matplotlib.axes._subplots.AxesSubplot at 0x7f2639908590>"
            ]
          },
          "metadata": {
            "tags": []
          },
          "execution_count": 21
        },
        {
          "output_type": "display_data",
          "data": {
            "image/png": "[encoded data removed]",
            "text/plain": [
              "<Figure size 432x288 with 1 Axes>"
            ]
          },
          "metadata": {
            "tags": [],
            "needs_background": "light"
          }
        }
      ]
    },
    {
      "cell_type": "code",
      "metadata": {
        "colab": {
          "base_uri": "https://localhost:8080/"
        },
        "id": "aVZqamL8d9KH",
        "outputId": "b57a19c4-221a-475d-c99c-212f86d8c663"
      },
      "source": [
        "#change the data type\n",
        "df = df.values\n",
        "df=df.astype('float32')\n",
        "\n",
        "#normalize the dataset\n",
        "scaler = MinMaxScaler(feature_range=(0,1))\n",
        "df = scaler.fit_transform(df)\n",
        "\n",
        "#split into train and test sets\n",
        "train_size = int(len(df)*0.67)\n",
        "test_size = len(df) - train_size\n",
        "train,test = df[0:train_size,:], df[train_size:len(df),:]\n",
        "print(len(train),len(test))"
      ],
      "execution_count": null,
      "outputs": [
        {
          "output_type": "stream",
          "text": [
            "574 283\n"
          ],
          "name": "stdout"
        }
      ]
    },
    {
      "cell_type": "code",
      "metadata": {
        "id": "aTtuHm4zfCZs"
      },
      "source": [
        "#convert an array of values into a dataset matrix\n",
        "def create_dataset(df, look_back=1):\n",
        "  dataX, dataY = [], []\n",
        "  for i in range(len(df)-look_back-1):\n",
        "    a = df[i:(i+look_back), 0]\n",
        "    dataX.append(a)\n",
        "    dataY.append(df[i + look_back, 0])\n",
        "  return np.array(dataX), np.array(dataY)"
      ],
      "execution_count": null,
      "outputs": []
    },
    {
      "cell_type": "code",
      "metadata": {
        "id": "Qy2Mdc5gf3Xj"
      },
      "source": [
        "#reshape into X=t and Y=t+1\n",
        "look_back = 1\n",
        "trainX, trainY = create_dataset(train, look_back)\n",
        "testX, testY = create_dataset(test, look_back)\n",
        "\n",
        "#reshape input to be [samples,time stemps, features]\n",
        "trainX = np.reshape(trainX,(trainX.shape[0],1,trainX.shape[1]))\n",
        "testX = np.reshape(testX,(testX.shape[0],1,testX.shape[1]))"
      ],
      "execution_count": null,
      "outputs": []
    },
    {
      "cell_type": "code",
      "metadata": {
        "colab": {
          "base_uri": "https://localhost:8080/"
        },
        "id": "ZBA7R0h6p5Ys",
        "outputId": "d8fcc9ee-4174-4f13-f2db-f09bea7ce841"
      },
      "source": [
        "#create the LSTM network\n",
        "model=Sequential()\n",
        "model.add(LSTM(4,input_shape=(1,look_back)))\n",
        "model.add(Dense(1))\n",
        "model.summary()"
      ],
      "execution_count": null,
      "outputs": [
        {
          "output_type": "stream",
          "text": [
            "Model: \"sequential\"\n",
            "_________________________________________________________________\n",
            "Layer (type)                 Output Shape              Param #   \n",
            "=================================================================\n",
            "lstm (LSTM)                  (None, 4)                 96        \n",
            "_________________________________________________________________\n",
            "dense (Dense)                (None, 1)                 5         \n",
            "=================================================================\n",
            "Total params: 101\n",
            "Trainable params: 101\n",
            "Non-trainable params: 0\n",
            "_________________________________________________________________\n"
          ],
          "name": "stdout"
        }
      ]
    },
    {
      "cell_type": "code",
      "metadata": {
        "colab": {
          "base_uri": "https://localhost:8080/"
        },
        "id": "xeo2DeJcqaUf",
        "outputId": "eb093735-0683-4845-eaec-4c79e4de6498"
      },
      "source": [
        "#compile and fit the model\n",
        "model.compile(loss='mean_squared_error',optimizer='adam')\n",
        "model.fit(trainX,trainY,epochs=100,batch_size=1,verbose=2)"
      ],
      "execution_count": null,
      "outputs": [
        {
          "output_type": "stream",
          "text": [
            "Epoch 1/100\n",
            "572/572 - 20s - loss: 0.0584\n",
            "Epoch 2/100\n",
            "572/572 - 1s - loss: 0.0159\n",
            "Epoch 3/100\n",
            "572/572 - 1s - loss: 0.0094\n",
            "Epoch 4/100\n",
            "572/572 - 1s - loss: 0.0044\n",
            "Epoch 5/100\n",
            "572/572 - 1s - loss: 0.0023\n",
            "Epoch 6/100\n",
            "572/572 - 1s - loss: 0.0019\n",
            "Epoch 7/100\n",
            "572/572 - 1s - loss: 0.0019\n",
            "Epoch 8/100\n",
            "572/572 - 1s - loss: 0.0019\n",
            "Epoch 9/100\n",
            "572/572 - 1s - loss: 0.0019\n",
            "Epoch 10/100\n",
            "572/572 - 1s - loss: 0.0019\n",
            "Epoch 11/100\n",
            "572/572 - 1s - loss: 0.0019\n",
            "Epoch 12/100\n",
            "572/572 - 1s - loss: 0.0019\n",
            "Epoch 13/100\n",
            "572/572 - 1s - loss: 0.0019\n",
            "Epoch 14/100\n",
            "572/572 - 1s - loss: 0.0019\n",
            "Epoch 15/100\n",
            "572/572 - 1s - loss: 0.0019\n",
            "Epoch 16/100\n",
            "572/572 - 1s - loss: 0.0019\n",
            "Epoch 17/100\n",
            "572/572 - 1s - loss: 0.0019\n",
            "Epoch 18/100\n",
            "572/572 - 1s - loss: 0.0019\n",
            "Epoch 19/100\n",
            "572/572 - 1s - loss: 0.0019\n",
            "Epoch 20/100\n",
            "572/572 - 1s - loss: 0.0019\n",
            "Epoch 21/100\n",
            "572/572 - 1s - loss: 0.0019\n",
            "Epoch 22/100\n",
            "572/572 - 1s - loss: 0.0019\n",
            "Epoch 23/100\n",
            "572/572 - 1s - loss: 0.0019\n",
            "Epoch 24/100\n",
            "572/572 - 1s - loss: 0.0019\n",
            "Epoch 25/100\n",
            "572/572 - 1s - loss: 0.0019\n",
            "Epoch 26/100\n",
            "572/572 - 1s - loss: 0.0019\n",
            "Epoch 27/100\n",
            "572/572 - 1s - loss: 0.0019\n",
            "Epoch 28/100\n",
            "572/572 - 1s - loss: 0.0019\n",
            "Epoch 29/100\n",
            "572/572 - 1s - loss: 0.0019\n",
            "Epoch 30/100\n",
            "572/572 - 1s - loss: 0.0019\n",
            "Epoch 31/100\n",
            "572/572 - 1s - loss: 0.0019\n",
            "Epoch 32/100\n",
            "572/572 - 1s - loss: 0.0019\n",
            "Epoch 33/100\n",
            "572/572 - 1s - loss: 0.0019\n",
            "Epoch 34/100\n",
            "572/572 - 1s - loss: 0.0019\n",
            "Epoch 35/100\n",
            "572/572 - 1s - loss: 0.0019\n",
            "Epoch 36/100\n",
            "572/572 - 1s - loss: 0.0019\n",
            "Epoch 37/100\n",
            "572/572 - 1s - loss: 0.0019\n",
            "Epoch 38/100\n",
            "572/572 - 1s - loss: 0.0018\n",
            "Epoch 39/100\n",
            "572/572 - 1s - loss: 0.0019\n",
            "Epoch 40/100\n",
            "572/572 - 1s - loss: 0.0019\n",
            "Epoch 41/100\n",
            "572/572 - 1s - loss: 0.0018\n",
            "Epoch 42/100\n",
            "572/572 - 1s - loss: 0.0019\n",
            "Epoch 43/100\n",
            "572/572 - 1s - loss: 0.0019\n",
            "Epoch 44/100\n",
            "572/572 - 1s - loss: 0.0019\n",
            "Epoch 45/100\n",
            "572/572 - 1s - loss: 0.0019\n",
            "Epoch 46/100\n",
            "572/572 - 1s - loss: 0.0019\n",
            "Epoch 47/100\n",
            "572/572 - 1s - loss: 0.0019\n",
            "Epoch 48/100\n",
            "572/572 - 1s - loss: 0.0019\n",
            "Epoch 49/100\n",
            "572/572 - 1s - loss: 0.0019\n",
            "Epoch 50/100\n",
            "572/572 - 1s - loss: 0.0019\n",
            "Epoch 51/100\n",
            "572/572 - 1s - loss: 0.0019\n",
            "Epoch 52/100\n",
            "572/572 - 1s - loss: 0.0019\n",
            "Epoch 53/100\n",
            "572/572 - 1s - loss: 0.0019\n",
            "Epoch 54/100\n",
            "572/572 - 1s - loss: 0.0019\n",
            "Epoch 55/100\n",
            "572/572 - 1s - loss: 0.0019\n",
            "Epoch 56/100\n",
            "572/572 - 1s - loss: 0.0019\n",
            "Epoch 57/100\n",
            "572/572 - 1s - loss: 0.0018\n",
            "Epoch 58/100\n",
            "572/572 - 1s - loss: 0.0019\n",
            "Epoch 59/100\n",
            "572/572 - 1s - loss: 0.0019\n",
            "Epoch 60/100\n",
            "572/572 - 1s - loss: 0.0019\n",
            "Epoch 61/100\n",
            "572/572 - 1s - loss: 0.0019\n",
            "Epoch 62/100\n",
            "572/572 - 1s - loss: 0.0019\n",
            "Epoch 63/100\n",
            "572/572 - 1s - loss: 0.0019\n",
            "Epoch 64/100\n",
            "572/572 - 1s - loss: 0.0019\n",
            "Epoch 65/100\n",
            "572/572 - 1s - loss: 0.0019\n",
            "Epoch 66/100\n",
            "572/572 - 1s - loss: 0.0019\n",
            "Epoch 67/100\n",
            "572/572 - 1s - loss: 0.0019\n",
            "Epoch 68/100\n",
            "572/572 - 1s - loss: 0.0019\n",
            "Epoch 69/100\n",
            "572/572 - 1s - loss: 0.0019\n",
            "Epoch 70/100\n",
            "572/572 - 1s - loss: 0.0018\n",
            "Epoch 71/100\n",
            "572/572 - 1s - loss: 0.0019\n",
            "Epoch 72/100\n",
            "572/572 - 1s - loss: 0.0019\n",
            "Epoch 73/100\n",
            "572/572 - 1s - loss: 0.0018\n",
            "Epoch 74/100\n",
            "572/572 - 1s - loss: 0.0019\n",
            "Epoch 75/100\n",
            "572/572 - 1s - loss: 0.0019\n",
            "Epoch 76/100\n",
            "572/572 - 1s - loss: 0.0019\n",
            "Epoch 77/100\n",
            "572/572 - 1s - loss: 0.0019\n",
            "Epoch 78/100\n",
            "572/572 - 1s - loss: 0.0019\n",
            "Epoch 79/100\n",
            "572/572 - 1s - loss: 0.0019\n",
            "Epoch 80/100\n",
            "572/572 - 1s - loss: 0.0019\n",
            "Epoch 81/100\n",
            "572/572 - 1s - loss: 0.0019\n",
            "Epoch 82/100\n",
            "572/572 - 1s - loss: 0.0019\n",
            "Epoch 83/100\n",
            "572/572 - 1s - loss: 0.0019\n",
            "Epoch 84/100\n",
            "572/572 - 1s - loss: 0.0019\n",
            "Epoch 85/100\n",
            "572/572 - 1s - loss: 0.0019\n",
            "Epoch 86/100\n",
            "572/572 - 1s - loss: 0.0018\n",
            "Epoch 87/100\n",
            "572/572 - 1s - loss: 0.0019\n",
            "Epoch 88/100\n",
            "572/572 - 1s - loss: 0.0019\n",
            "Epoch 89/100\n",
            "572/572 - 1s - loss: 0.0019\n",
            "Epoch 90/100\n",
            "572/572 - 1s - loss: 0.0019\n",
            "Epoch 91/100\n",
            "572/572 - 1s - loss: 0.0019\n",
            "Epoch 92/100\n",
            "572/572 - 1s - loss: 0.0018\n",
            "Epoch 93/100\n",
            "572/572 - 1s - loss: 0.0018\n",
            "Epoch 94/100\n",
            "572/572 - 1s - loss: 0.0019\n",
            "Epoch 95/100\n",
            "572/572 - 1s - loss: 0.0019\n",
            "Epoch 96/100\n",
            "572/572 - 1s - loss: 0.0019\n",
            "Epoch 97/100\n",
            "572/572 - 1s - loss: 0.0019\n",
            "Epoch 98/100\n",
            "572/572 - 1s - loss: 0.0019\n",
            "Epoch 99/100\n",
            "572/572 - 1s - loss: 0.0019\n",
            "Epoch 100/100\n",
            "572/572 - 1s - loss: 0.0019\n"
          ],
          "name": "stdout"
        },
        {
          "output_type": "execute_result",
          "data": {
            "text/plain": [
              "<keras.callbacks.History at 0x7f26361c1e50>"
            ]
          },
          "metadata": {
            "tags": []
          },
          "execution_count": 26
        }
      ]
    },
    {
      "cell_type": "code",
      "metadata": {
        "colab": {
          "base_uri": "https://localhost:8080/"
        },
        "id": "cb2ch_rr8p0o",
        "outputId": "bd99152c-263d-4dfe-df90-f9b965780cef"
      },
      "source": [
        "#make predictios\n",
        "trainPredict=model.predict(trainX)\n",
        "testPredict=model.predict(testX)\n",
        "\n",
        "#invert predictions\n",
        "trainPredict = scaler.inverse_transform(trainPredict)\n",
        "trainY = scaler.inverse_transform([trainY])\n",
        "testPredict=scaler.inverse_transform(testPredict)\n",
        "testY=scaler.inverse_transform([testY])\n",
        "\n",
        "#calculate root mean squared error\n",
        "trainScore = math.sqrt(mean_squared_error(trainY[0],trainPredict[:,0]))\n",
        "print('Train Score: %.2f RMSE'%(trainScore))\n",
        "testScore = math.sqrt(mean_squared_error(testY[0],testPredict[:,0]))\n",
        "print('Test Score: %.2f RMSE'%(testScore))"
      ],
      "execution_count": null,
      "outputs": [
        {
          "output_type": "stream",
          "text": [
            "Train Score: 0.20 RMSE\n",
            "Test Score: 0.21 RMSE\n"
          ],
          "name": "stdout"
        }
      ]
    },
    {
      "cell_type": "code",
      "metadata": {
        "colab": {
          "base_uri": "https://localhost:8080/",
          "height": 265
        },
        "id": "s9WAnYAIAPHD",
        "outputId": "c0360f6b-db26-45f1-b0cd-d00101968a67"
      },
      "source": [
        "#shift train predictions for plotting\n",
        "trainPredictPlot = np.empty_like(df)\n",
        "trainPredictPlot[:,:]=np.nan\n",
        "trainPredictPlot[look_back:len(trainPredict)+look_back,:]=trainPredict\n",
        "\n",
        "#shift test predictions for plotting\n",
        "testPredictPlot = np.empty_like(df)\n",
        "testPredictPlot[:,:]=np.nan\n",
        "testPredictPlot[len(trainPredict)+(look_back*2)+1:len(df)-1,:]=testPredict\n",
        "\n",
        "#plot baseline and predictions\n",
        "plt.plot(scaler.inverse_transform(df))\n",
        "plt.plot(trainPredictPlot)\n",
        "plt.plot(testPredictPlot)\n",
        "plt.show()"
      ],
      "execution_count": null,
      "outputs": [
        {
          "output_type": "display_data",
          "data": {
            "image/png": "[encoded data removed]",
            "text/plain": [
              "<Figure size 432x288 with 1 Axes>"
            ]
          },
          "metadata": {
            "tags": [],
            "needs_background": "light"
          }
        }
      ]
    }
  ]
}